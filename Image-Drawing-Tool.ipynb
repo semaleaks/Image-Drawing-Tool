{
 "cells": [
  {
   "cell_type": "code",
   "execution_count": 295,
   "id": "8ca0f4dd",
   "metadata": {},
   "outputs": [],
   "source": [
    "import tkinter as tk\n",
    "from tkinter import filedialog\n",
    "from tkinter import colorchooser\n",
    "from PIL import Image, ImageOps, ImageTk, ImageFilter, ImageDraw\n",
    "from tkinter import ttk"
   ]
  },
  {
   "cell_type": "code",
   "execution_count": 296,
   "id": "8ccaba07",
   "metadata": {},
   "outputs": [],
   "source": [
    "root = tk.Tk()\n",
    "root.geometry(\"1000x670\")\n",
    "root.title(\"Image Drawing Tool\")\n",
    "root.config(bg = \"grey\")"
   ]
  },
  {
   "cell_type": "code",
   "execution_count": 297,
   "id": "83aa8473",
   "metadata": {},
   "outputs": [],
   "source": [
    "pen_color = \"blue\"\n",
    "pen_size = 4\n",
    "file_path = \"\"\n",
    "drawings = []"
   ]
  },
  {
   "cell_type": "code",
   "execution_count": 298,
   "id": "5cbac996",
   "metadata": {},
   "outputs": [],
   "source": [
    "def add_image():\n",
    "    global file_path, canvas_image\n",
    "    file_path = filedialog.askopenfilename(\n",
    "        initialdir=r\"C:\\Users\\sema\\OneDrive - erbakan.edu.tr\\Resimler\\Ekran görüntüleri\",\n",
    "        filetypes=[(\"Image files\", \"*.jpg *.jpeg *.png *.bmp *.gif\")]\n",
    "    )\n",
    "    if not file_path:\n",
    "        return\n",
    "\n",
    "    image = Image.open(file_path)\n",
    "    width, height = int(image.width / 2), int(image.height / 2)\n",
    "    image = image.resize((width, height), Image.LANCZOS)\n",
    "    canvas.config(width=width, height=height)\n",
    "    canvas_image = ImageTk.PhotoImage(image)\n",
    "    canvas.create_image(0, 0, image=canvas_image, anchor=\"nw\")"
   ]
  },
  {
   "cell_type": "code",
   "execution_count": 299,
   "id": "86c7405d",
   "metadata": {},
   "outputs": [],
   "source": [
    "def change_color():\n",
    "    global pen_color\n",
    "    pen_color = colorchooser.askcolor(title = \"Select Pen Color\")[1]"
   ]
  },
  {
   "cell_type": "code",
   "execution_count": 300,
   "id": "f4d40082",
   "metadata": {},
   "outputs": [],
   "source": [
    "def change_size(size):\n",
    "    global pen_size\n",
    "    pen_size = size"
   ]
  },
  {
   "cell_type": "code",
   "execution_count": 301,
   "id": "bfcebd65",
   "metadata": {},
   "outputs": [],
   "source": [
    "def draw(event):\n",
    "    x1, y1 = (event.x - pen_size), (event.y - pen_size)\n",
    "    x2, y2 = (event.x + pen_size), (event.y + pen_size)\n",
    "    oval = canvas.create_oval(x1, y1, x2, y2, fill=pen_color, outline='')\n",
    "    drawings.append(('oval', x1, y1, x2, y2, pen_color, pen_size))"
   ]
  },
  {
   "cell_type": "code",
   "execution_count": 302,
   "id": "6ee629fb",
   "metadata": {},
   "outputs": [],
   "source": [
    "def clear_canvas():\n",
    "    canvas.delete(\"all\")\n",
    "    if canvas_image:\n",
    "        canvas.create_image(0, 0, image=canvas_image, anchor=\"nw\")"
   ]
  },
  {
   "cell_type": "code",
   "execution_count": 303,
   "id": "0e4d1f20",
   "metadata": {},
   "outputs": [],
   "source": [
    "def apply_filter(selected_filter):\n",
    "    global file_path\n",
    "    \n",
    "    image = Image.open(file_path)\n",
    "    \n",
    "    width, height = int(image.width / 2), int(image.height / 2)\n",
    "    image = image.resize((width, height), Image.BOX)\n",
    "    \n",
    "    if selected_filter == \"Black and White\":\n",
    "        image = ImageOps.grayscale(image)\n",
    "    elif selected_filter == \"Sharpen\":\n",
    "        image = image.filter(ImageFilter.SHARPEN)\n",
    "    elif selected_filter == \"Smooth\":\n",
    "        image = image.filter(ImageFilter.SMOOTH)\n",
    "    elif selected_filter == \"Blur\":\n",
    "        image = image.filter(ImageFilter.BLUR)\n",
    "    \n",
    "    clear_canvas()\n",
    "    \n",
    "    \n",
    "    image = ImageTk.PhotoImage(image)\n",
    "   \n",
    "\n",
    "    canvas.image = image\n",
    "    canvas.create_image(0, 0, image=image, anchor=\"nw\")\n",
    "\n",
    "    for drawing in drawings:\n",
    "        if drawing[0] == 'oval':\n",
    "            _, x1, y1, x2, y2, color, size = drawing\n",
    "            canvas.create_oval(x1, y1, x2, y2, fill=color, outline='')"
   ]
  },
  {
   "cell_type": "code",
   "execution_count": 304,
   "id": "ad6bb53f",
   "metadata": {},
   "outputs": [],
   "source": [
    "right_frame = tk.Frame(root, width=200, height=670, bg=\"grey\")\n",
    "right_frame.pack(side=\"right\",fill=\"y\")"
   ]
  },
  {
   "cell_type": "code",
   "execution_count": 305,
   "id": "90703434",
   "metadata": {},
   "outputs": [],
   "source": [
    "canvas = tk.Canvas(root, width = 750, height = 670)\n",
    "canvas.pack()"
   ]
  },
  {
   "cell_type": "code",
   "execution_count": 306,
   "id": "eff9943e",
   "metadata": {},
   "outputs": [],
   "source": [
    "image_button = tk.Button(right_frame, text=\"Add Image\",\n",
    "                         command=add_image,\n",
    "                         bg=\"grey\")\n",
    "image_button.pack(pady=15)"
   ]
  },
  {
   "cell_type": "code",
   "execution_count": 307,
   "id": "b3d01a73",
   "metadata": {},
   "outputs": [],
   "source": [
    "color_button =tk.Button(\n",
    "    right_frame, text= \"Pen Color\", command= change_color, bg=\"white\")\n",
    "color_button.pack(pady=5)"
   ]
  },
  {
   "cell_type": "code",
   "execution_count": 308,
   "id": "3632c681",
   "metadata": {},
   "outputs": [],
   "source": [
    "pen_size_frame = tk.Frame(right_frame, bg = \"grey\")\n",
    "pen_size_frame.pack(pady=4)"
   ]
  },
  {
   "cell_type": "code",
   "execution_count": 309,
   "id": "6776fe5b",
   "metadata": {},
   "outputs": [],
   "source": [
    "pen_size1 = tk.Radiobutton(\n",
    "    pen_size_frame, text= \"small\", value=1, command = lambda: change_size(1), bg= \"grey\")\n",
    "pen_size1.pack(side= \"right\")"
   ]
  },
  {
   "cell_type": "code",
   "execution_count": 310,
   "id": "142480aa",
   "metadata": {},
   "outputs": [],
   "source": [
    "pen_size2 = tk.Radiobutton(\n",
    "    pen_size_frame, text = \"medium\", value=4, command = lambda: change_size(4), bg= \"grey\")\n",
    "pen_size2.pack(side = \"right\")"
   ]
  },
  {
   "cell_type": "code",
   "execution_count": 311,
   "id": "42b19aa9",
   "metadata": {},
   "outputs": [],
   "source": [
    "pen_size3 = tk.Radiobutton(\n",
    "    pen_size_frame, text = \"large\", value =7,command = lambda: change_size(7), bg = \"grey\")\n",
    "pen_size3.pack(side = \"right\")"
   ]
  },
  {
   "cell_type": "code",
   "execution_count": 312,
   "id": "c345274f",
   "metadata": {},
   "outputs": [],
   "source": [
    "clear_button = tk.Button(right_frame, text = \"Clear\",\n",
    "                        command = clear_canvas, bg = \"#FF9797\")\n",
    "clear_button.pack(pady=15)"
   ]
  },
  {
   "cell_type": "code",
   "execution_count": 313,
   "id": "280ac608",
   "metadata": {},
   "outputs": [
    {
     "data": {
      "text/plain": [
       "'2733507744384<lambda>'"
      ]
     },
     "execution_count": 313,
     "metadata": {},
     "output_type": "execute_result"
    }
   ],
   "source": [
    "filter_label = tk.Label(right_frame, text = \"Select Filter\", bg = \"white\")\n",
    "filter_label.pack()\n",
    "filter_combobox = ttk.Combobox(right_frame,values=[\"Black and White\", \"Blur\", \"Sharpen\", \"Smooth\"])\n",
    "filter_combobox.pack()\n",
    "\n",
    "\n",
    "filter_combobox.bind(\"<<ComboboxSelected>>\", lambda event: apply_filter(filter_combobox.get()))\n"
   ]
  },
  {
   "cell_type": "code",
   "execution_count": 314,
   "id": "fa76e2bc",
   "metadata": {},
   "outputs": [
    {
     "data": {
      "text/plain": [
       "'2733521809728draw'"
      ]
     },
     "execution_count": 314,
     "metadata": {},
     "output_type": "execute_result"
    }
   ],
   "source": [
    "canvas.bind(\"<B1-Motion>\", draw)"
   ]
  },
  {
   "cell_type": "code",
   "execution_count": 315,
   "id": "fc0e967c",
   "metadata": {},
   "outputs": [],
   "source": [
    "root.mainloop()"
   ]
  },
  {
   "cell_type": "code",
   "execution_count": null,
   "id": "7d4f822c",
   "metadata": {},
   "outputs": [],
   "source": []
  }
 ],
 "metadata": {
  "kernelspec": {
   "display_name": "Python 3 (ipykernel)",
   "language": "python",
   "name": "python3"
  },
  "language_info": {
   "codemirror_mode": {
    "name": "ipython",
    "version": 3
   },
   "file_extension": ".py",
   "mimetype": "text/x-python",
   "name": "python",
   "nbconvert_exporter": "python",
   "pygments_lexer": "ipython3",
   "version": "3.11.7"
  }
 },
 "nbformat": 4,
 "nbformat_minor": 5
}
